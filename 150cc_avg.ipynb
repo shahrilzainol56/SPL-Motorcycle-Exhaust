{
 "cells": [
  {
   "cell_type": "code",
   "execution_count": 1,
   "metadata": {},
   "outputs": [],
   "source": [
    "# Import libraries\n",
    "import pandas as pd"
   ]
  },
  {
   "cell_type": "code",
   "execution_count": 2,
   "metadata": {},
   "outputs": [
    {
     "name": "stdout",
     "output_type": "stream",
     "text": [
      "     Recorded Value (dBA)  Response Time (seconds)\n",
      "0                    89.4                      0.2\n",
      "1                    91.9                      0.2\n",
      "2                    91.5                      0.2\n",
      "3                    91.8                      0.2\n",
      "4                    91.1                      0.2\n",
      "..                    ...                      ...\n",
      "280                  90.0                      0.2\n",
      "281                  89.9                      0.2\n",
      "282                  89.8                      0.2\n",
      "283                  90.6                      0.2\n",
      "284                  90.4                      0.2\n",
      "\n",
      "[285 rows x 2 columns]\n"
     ]
    }
   ],
   "source": [
    "# Load the recorded SPL for 110cc motorcycle\n",
    "df = pd.read_csv('150cc_1.csv', skiprows=8)\n",
    "print(df)"
   ]
  },
  {
   "cell_type": "code",
   "execution_count": 3,
   "metadata": {},
   "outputs": [
    {
     "name": "stdout",
     "output_type": "stream",
     "text": [
      "     Recorded Value (dBA)  Response Time (seconds)  Time (seconds)\n",
      "0                    89.4                      0.2             0.2\n",
      "1                    91.9                      0.2             0.4\n",
      "2                    91.5                      0.2             0.6\n",
      "3                    91.8                      0.2             0.8\n",
      "4                    91.1                      0.2             1.0\n",
      "..                    ...                      ...             ...\n",
      "280                  90.0                      0.2            56.2\n",
      "281                  89.9                      0.2            56.4\n",
      "282                  89.8                      0.2            56.6\n",
      "283                  90.6                      0.2            56.8\n",
      "284                  90.4                      0.2            57.0\n",
      "\n",
      "[285 rows x 3 columns]\n"
     ]
    }
   ],
   "source": [
    "# Add a new column for Time (seconds) - cumulative sum of Response Time\n",
    "df['Time (seconds)'] = df['Response Time (seconds)'].astype(float).cumsum()\n",
    "print(df)"
   ]
  },
  {
   "cell_type": "code",
   "execution_count": 4,
   "metadata": {},
   "outputs": [
    {
     "name": "stdout",
     "output_type": "stream",
     "text": [
      "      SPL   Ts     T\n",
      "0    89.4  0.2   0.2\n",
      "1    91.9  0.2   0.4\n",
      "2    91.5  0.2   0.6\n",
      "3    91.8  0.2   0.8\n",
      "4    91.1  0.2   1.0\n",
      "..    ...  ...   ...\n",
      "280  90.0  0.2  56.2\n",
      "281  89.9  0.2  56.4\n",
      "282  89.8  0.2  56.6\n",
      "283  90.6  0.2  56.8\n",
      "284  90.4  0.2  57.0\n",
      "\n",
      "[285 rows x 3 columns]\n"
     ]
    }
   ],
   "source": [
    "# Rename the columns\n",
    "df = df.rename(columns={'Recorded Value (dBA)': 'SPL', 'Response Time (seconds)': 'Ts', 'Time (seconds)': 'T'})\n",
    "print(df)"
   ]
  },
  {
   "cell_type": "code",
   "execution_count": 5,
   "metadata": {},
   "outputs": [
    {
     "name": "stdout",
     "output_type": "stream",
     "text": [
      "Portion 1:\n",
      "Average SPL: 89.62631578947367\n",
      "Time Taken: 18.799999999999965\n",
      "\n",
      "Portion 2:\n",
      "Average SPL: 89.23578947368422\n",
      "Time Taken: 18.800000000000036\n",
      "\n",
      "Portion 3:\n",
      "Average SPL: 89.76947368421051\n",
      "Time Taken: 18.800000000000267\n"
     ]
    }
   ],
   "source": [
    "# Calculate the number of rows in each portion\n",
    "total_rows = len(df)\n",
    "portion_size = total_rows // 3\n",
    "\n",
    "# Divide the data into three equal portions\n",
    "portion1 = df.iloc[:portion_size]\n",
    "portion2 = df.iloc[portion_size:2 * portion_size]\n",
    "portion3 = df.iloc[2 * portion_size:]\n",
    "\n",
    "# Calculate the average SPL and the time taken for each portion\n",
    "avg_spl_portion1 = portion1['SPL'].mean()\n",
    "time_taken_portion1 = portion1['T'].iloc[-1] - portion1['T'].iloc[0]\n",
    "\n",
    "avg_spl_portion2 = portion2['SPL'].mean()\n",
    "time_taken_portion2 = portion2['T'].iloc[-1] - portion2['T'].iloc[0]\n",
    "\n",
    "avg_spl_portion3 = portion3['SPL'].mean()\n",
    "time_taken_portion3 = portion3['T'].iloc[-1] - portion3['T'].iloc[0]\n",
    "\n",
    "# Print the results\n",
    "print(\"Portion 1:\")\n",
    "print(\"Average SPL:\", avg_spl_portion1)\n",
    "print(\"Time Taken:\", time_taken_portion1)\n",
    "\n",
    "print(\"\\nPortion 2:\")\n",
    "print(\"Average SPL:\", avg_spl_portion2)\n",
    "print(\"Time Taken:\", time_taken_portion2)\n",
    "\n",
    "print(\"\\nPortion 3:\")\n",
    "print(\"Average SPL:\", avg_spl_portion3)\n",
    "print(\"Time Taken:\", time_taken_portion3)"
   ]
  },
  {
   "cell_type": "code",
   "execution_count": 6,
   "metadata": {},
   "outputs": [
    {
     "name": "stdout",
     "output_type": "stream",
     "text": [
      "Overall Average SPL: 89.54385964912281\n"
     ]
    }
   ],
   "source": [
    "# Calculate the overall average SPL\n",
    "overall_avg_spl = (avg_spl_portion1 + avg_spl_portion2 + avg_spl_portion3) / 3\n",
    "\n",
    "# Print the overall average SPL\n",
    "print(\"Overall Average SPL:\", overall_avg_spl)"
   ]
  }
 ],
 "metadata": {
  "kernelspec": {
   "display_name": "Python 3",
   "language": "python",
   "name": "python3"
  },
  "language_info": {
   "codemirror_mode": {
    "name": "ipython",
    "version": 3
   },
   "file_extension": ".py",
   "mimetype": "text/x-python",
   "name": "python",
   "nbconvert_exporter": "python",
   "pygments_lexer": "ipython3",
   "version": "3.11.3"
  }
 },
 "nbformat": 4,
 "nbformat_minor": 2
}
